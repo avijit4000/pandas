{
 "cells": [
  {
   "cell_type": "code",
   "execution_count": 1,
   "id": "d65e2967",
   "metadata": {},
   "outputs": [],
   "source": [
    "l=[[1,2,3],[4,5,6],[7,8,9]]"
   ]
  },
  {
   "cell_type": "code",
   "execution_count": 9,
   "id": "c3026e41",
   "metadata": {},
   "outputs": [],
   "source": [
    "k=[1,2,8,4,5,10,7,3,0]"
   ]
  },
  {
   "cell_type": "code",
   "execution_count": 5,
   "id": "742a79a8",
   "metadata": {},
   "outputs": [],
   "source": [
    "m=k.sort()"
   ]
  },
  {
   "cell_type": "code",
   "execution_count": 7,
   "id": "90d74b29",
   "metadata": {},
   "outputs": [
    {
     "name": "stdout",
     "output_type": "stream",
     "text": [
      "None\n"
     ]
    }
   ],
   "source": [
    "print(m)"
   ]
  },
  {
   "cell_type": "code",
   "execution_count": 12,
   "id": "5b35da51",
   "metadata": {},
   "outputs": [
    {
     "name": "stdout",
     "output_type": "stream",
     "text": [
      "None\n"
     ]
    }
   ],
   "source": [
    "print(k.sort())"
   ]
  },
  {
   "cell_type": "code",
   "execution_count": 13,
   "id": "ea48460a",
   "metadata": {},
   "outputs": [
    {
     "name": "stdout",
     "output_type": "stream",
     "text": [
      "[2, 3, 5, 7, 11]\n"
     ]
    }
   ],
   "source": [
    "prime_numbers = [11, 3, 7, 5, 2]\n",
    "\n",
    "prime_numbers.sort()\n",
    "\n",
    "print(prime_numbers)"
   ]
  },
  {
   "cell_type": "code",
   "execution_count": 14,
   "id": "8925c125",
   "metadata": {},
   "outputs": [
    {
     "name": "stdout",
     "output_type": "stream",
     "text": [
      "[0, 1, 2, 3, 4, 5, 7, 8, 10]\n"
     ]
    }
   ],
   "source": [
    "k=[1,2,8,4,5,10,7,3,0]\n",
    "k.sort()\n",
    "print(k)"
   ]
  },
  {
   "cell_type": "code",
   "execution_count": 15,
   "id": "223a3810",
   "metadata": {},
   "outputs": [
    {
     "data": {
      "text/plain": [
       "[0, 1, 2, 3, 4, 5, 7, 8, 10]"
      ]
     },
     "execution_count": 15,
     "metadata": {},
     "output_type": "execute_result"
    }
   ],
   "source": [
    "k"
   ]
  },
  {
   "cell_type": "code",
   "execution_count": 36,
   "id": "837006b4",
   "metadata": {},
   "outputs": [
    {
     "name": "stdout",
     "output_type": "stream",
     "text": [
      "240\n"
     ]
    }
   ],
   "source": [
    "a=[3,6,-5,2,4,-2,1,5,-8]\n",
    "def m(a):\n",
    "    a.sort()\n",
    "    pr1= a[-1]*a[-2]*a[-3]\n",
    "    pr2=a[0]*a[1]*a[-1]\n",
    "    ma=max(pr1, pr2)\n",
    "    return ma\n",
    "print(m(a))"
   ]
  },
  {
   "cell_type": "code",
   "execution_count": 35,
   "id": "d9ada261",
   "metadata": {},
   "outputs": [
    {
     "name": "stdout",
     "output_type": "stream",
     "text": [
      "-40\n"
     ]
    }
   ],
   "source": [
    "print(m(a))"
   ]
  },
  {
   "cell_type": "code",
   "execution_count": 25,
   "id": "ecf7a13a",
   "metadata": {},
   "outputs": [
    {
     "name": "stdout",
     "output_type": "stream",
     "text": [
      "avijit\n"
     ]
    }
   ],
   "source": [
    "print('avijit')"
   ]
  },
  {
   "cell_type": "code",
   "execution_count": 29,
   "id": "ed25d6a1",
   "metadata": {},
   "outputs": [],
   "source": [
    "def maxProd(a):\n",
    "    a.sort()\n",
    "    return max(a[-1]*a[-2]*a[-3],a[0]*a[1]*a[-1])"
   ]
  },
  {
   "cell_type": "code",
   "execution_count": 31,
   "id": "ad145ae8",
   "metadata": {},
   "outputs": [
    {
     "name": "stdout",
     "output_type": "stream",
     "text": [
      "240\n"
     ]
    }
   ],
   "source": [
    "print(maxProd(a))"
   ]
  },
  {
   "cell_type": "code",
   "execution_count": 37,
   "id": "0712ecb4",
   "metadata": {},
   "outputs": [
    {
     "name": "stdout",
     "output_type": "stream",
     "text": [
      "Hello, world\n",
      "504\n"
     ]
    }
   ],
   "source": [
    "def foo():\n",
    "    return \"Hello, world\"\n",
    "print(foo())\n",
    "\n",
    "def prod(lis):\n",
    "    maxi=0\n",
    "    for x in lis:\n",
    "        p=1\n",
    "        for i in x:\n",
    "            p*=i\n",
    "            maxi=max(p,maxi)\n",
    "    return maxi\n",
    "l=[[1,2,3],[4,5,6],[7,8,9]]\n",
    "print(prod(l))"
   ]
  },
  {
   "cell_type": "code",
   "execution_count": 42,
   "id": "2756e3b6",
   "metadata": {},
   "outputs": [],
   "source": [
    "s=[]\n",
    "for i in range(4,15):\n",
    "   s.append(i)\n"
   ]
  },
  {
   "cell_type": "code",
   "execution_count": 43,
   "id": "2793e34e",
   "metadata": {},
   "outputs": [
    {
     "data": {
      "text/plain": [
       "[4, 5, 6, 7, 8, 9, 10, 11, 12, 13, 14]"
      ]
     },
     "execution_count": 43,
     "metadata": {},
     "output_type": "execute_result"
    }
   ],
   "source": [
    "s\n"
   ]
  },
  {
   "cell_type": "code",
   "execution_count": 44,
   "id": "01919103",
   "metadata": {},
   "outputs": [
    {
     "ename": "SyntaxError",
     "evalue": "invalid syntax (1516967741.py, line 2)",
     "output_type": "error",
     "traceback": [
      "\u001b[1;36m  Cell \u001b[1;32mIn [44], line 2\u001b[1;36m\u001b[0m\n\u001b[1;33m    j%2!=0:\u001b[0m\n\u001b[1;37m          ^\u001b[0m\n\u001b[1;31mSyntaxError\u001b[0m\u001b[1;31m:\u001b[0m invalid syntax\n"
     ]
    }
   ],
   "source": [
    "for j in s:\n",
    "    j%2!=0:"
   ]
  },
  {
   "cell_type": "code",
   "execution_count": 45,
   "id": "d6e1b2bc",
   "metadata": {},
   "outputs": [
    {
     "name": "stdout",
     "output_type": "stream",
     "text": [
      "3\n"
     ]
    }
   ],
   "source": [
    "l=[4,10,5,3,3]\n",
    "i=3\n",
    "j=3\n",
    "ans=0\n",
    "for i in range(i,j+1):\n",
    "    ans+=l[i]\n",
    "print(ans)"
   ]
  },
  {
   "cell_type": "code",
   "execution_count": 46,
   "id": "dfec7ff5",
   "metadata": {},
   "outputs": [
    {
     "name": "stdout",
     "output_type": "stream",
     "text": [
      "avijit\n"
     ]
    }
   ],
   "source": [
    "print('avijit')"
   ]
  },
  {
   "cell_type": "code",
   "execution_count": 47,
   "id": "da407a97",
   "metadata": {},
   "outputs": [],
   "source": [
    "num1=5\n",
    "num2=3\n"
   ]
  },
  {
   "cell_type": "code",
   "execution_count": 48,
   "id": "7f03db5a",
   "metadata": {},
   "outputs": [],
   "source": [
    "num3=num1+num2"
   ]
  },
  {
   "cell_type": "code",
   "execution_count": 49,
   "id": "3132bd3c",
   "metadata": {},
   "outputs": [
    {
     "data": {
      "text/plain": [
       "8"
      ]
     },
     "execution_count": 49,
     "metadata": {},
     "output_type": "execute_result"
    }
   ],
   "source": [
    "num3"
   ]
  },
  {
   "cell_type": "code",
   "execution_count": 55,
   "id": "b4420770",
   "metadata": {},
   "outputs": [
    {
     "name": "stdout",
     "output_type": "stream",
     "text": [
      "sum of 5 and 3 is 8\n"
     ]
    }
   ],
   "source": [
    "print('sum of {0} and {1} is {2}'.format(num1,num2,num3))"
   ]
  },
  {
   "cell_type": "code",
   "execution_count": 51,
   "id": "32c4c808",
   "metadata": {},
   "outputs": [
    {
     "name": "stdout",
     "output_type": "stream",
     "text": [
      "Sum of 5 and 3 is <built-in function sum>\n"
     ]
    }
   ],
   "source": [
    "print(\"Sum of {0} and {1} is {2}\" .format(num1, num2, sum))"
   ]
  },
  {
   "cell_type": "code",
   "execution_count": 52,
   "id": "db64475b",
   "metadata": {},
   "outputs": [
    {
     "name": "stdout",
     "output_type": "stream",
     "text": [
      "First number: 25\n",
      "\n",
      "Second number: 33\n",
      "The sum of 25 and 33 is 58.0\n"
     ]
    }
   ],
   "source": [
    "number1 = input(\"First number: \")\n",
    "number2 = input(\"\\nSecond number: \")\n",
    " \n",
    "# Adding two numbers\n",
    "# User might also enter float numbers\n",
    "sum = float(number1) + float(number2)\n",
    " \n",
    "# Display the sum\n",
    "# will print value in float\n",
    "print(\"The sum of {0} and {1} is {2}\" .format(number1, number2, sum))"
   ]
  },
  {
   "cell_type": "code",
   "execution_count": 54,
   "id": "567e6c99",
   "metadata": {},
   "outputs": [
    {
     "name": "stdout",
     "output_type": "stream",
     "text": [
      "25\n",
      "66\n",
      "su 25 and 66 is 91.0:\n"
     ]
    }
   ],
   "source": [
    "nu1=input()\n",
    "nu2=input()\n",
    "su=float(nu1)+float(nu2)\n",
    "print(\"su {0} and {1} is {2}:\".format(nu1,nu2,su))"
   ]
  },
  {
   "cell_type": "code",
   "execution_count": 59,
   "id": "68406580",
   "metadata": {},
   "outputs": [
    {
     "ename": "NameError",
     "evalue": "name 'largest' is not defined",
     "output_type": "error",
     "traceback": [
      "\u001b[1;31m---------------------------------------------------------------------------\u001b[0m",
      "\u001b[1;31mNameError\u001b[0m                                 Traceback (most recent call last)",
      "Cell \u001b[1;32mIn [59], line 12\u001b[0m\n\u001b[0;32m      9\u001b[0m         largest \u001b[38;5;241m=\u001b[39m c\n\u001b[0;32m     11\u001b[0m     \u001b[38;5;28;01mreturn\u001b[39;00m largest\n\u001b[1;32m---> 12\u001b[0m \u001b[38;5;28mprint\u001b[39m(largest)\n",
      "\u001b[1;31mNameError\u001b[0m: name 'largest' is not defined"
     ]
    }
   ],
   "source": [
    "def maximum(a, b, c):\n",
    "  \n",
    "    if (a >= b) and (a >= c):\n",
    "        largest = a\n",
    "  \n",
    "    elif (b >= a) and (b >= c):\n",
    "        largest = b\n",
    "    else:\n",
    "        largest = c\n",
    "          \n",
    "    return largest\n",
    "largest\n",
    "    \n",
    "    \n",
    "    "
   ]
  },
  {
   "cell_type": "code",
   "execution_count": 57,
   "id": "667762de",
   "metadata": {},
   "outputs": [
    {
     "ename": "NameError",
     "evalue": "name 'largest' is not defined",
     "output_type": "error",
     "traceback": [
      "\u001b[1;31m---------------------------------------------------------------------------\u001b[0m",
      "\u001b[1;31mNameError\u001b[0m                                 Traceback (most recent call last)",
      "Cell \u001b[1;32mIn [57], line 1\u001b[0m\n\u001b[1;32m----> 1\u001b[0m \u001b[38;5;28mprint\u001b[39m(largest)\n",
      "\u001b[1;31mNameError\u001b[0m: name 'largest' is not defined"
     ]
    }
   ],
   "source": [
    "print(largest)"
   ]
  },
  {
   "cell_type": "code",
   "execution_count": 61,
   "id": "11ddbbed",
   "metadata": {},
   "outputs": [
    {
     "ename": "NameError",
     "evalue": "name 'largest' is not defined",
     "output_type": "error",
     "traceback": [
      "\u001b[1;31m---------------------------------------------------------------------------\u001b[0m",
      "\u001b[1;31mNameError\u001b[0m                                 Traceback (most recent call last)",
      "Cell \u001b[1;32mIn [61], line 4\u001b[0m\n\u001b[0;32m      2\u001b[0m b \u001b[38;5;241m=\u001b[39m \u001b[38;5;241m14\u001b[39m\n\u001b[0;32m      3\u001b[0m c \u001b[38;5;241m=\u001b[39m \u001b[38;5;241m12\u001b[39m\n\u001b[1;32m----> 4\u001b[0m \u001b[38;5;28mprint\u001b[39m(largest)\n",
      "\u001b[1;31mNameError\u001b[0m: name 'largest' is not defined"
     ]
    }
   ],
   "source": [
    "a = 10\n",
    "b = 14\n",
    "c = 12\n",
    "print(largest)"
   ]
  },
  {
   "cell_type": "code",
   "execution_count": null,
   "id": "3fdfe671",
   "metadata": {},
   "outputs": [],
   "source": []
  }
 ],
 "metadata": {
  "kernelspec": {
   "display_name": "Python 3 (ipykernel)",
   "language": "python",
   "name": "python3"
  },
  "language_info": {
   "codemirror_mode": {
    "name": "ipython",
    "version": 3
   },
   "file_extension": ".py",
   "mimetype": "text/x-python",
   "name": "python",
   "nbconvert_exporter": "python",
   "pygments_lexer": "ipython3",
   "version": "3.10.7"
  }
 },
 "nbformat": 4,
 "nbformat_minor": 5
}
